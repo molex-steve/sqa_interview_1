{
  "nbformat": 4,
  "nbformat_minor": 0,
  "metadata": {
    "colab": {
      "name": "SQA Interview Question 1.ipynb",
      "provenance": [],
      "toc_visible": true,
      "authorship_tag": "ABX9TyNXHF81G35QOO6QjdVa9G3V",
      "include_colab_link": true
    },
    "kernelspec": {
      "name": "python3",
      "display_name": "Python 3"
    }
  },
  "cells": [
    {
      "cell_type": "markdown",
      "metadata": {
        "id": "view-in-github",
        "colab_type": "text"
      },
      "source": [
        "<a href=\"https://colab.research.google.com/github/molex-steve/sqa_interview_1/blob/master/SQA_Interview_Question_1.ipynb\" target=\"_parent\"><img src=\"https://colab.research.google.com/assets/colab-badge.svg\" alt=\"Open In Colab\"/></a>"
      ]
    },
    {
      "cell_type": "markdown",
      "metadata": {
        "id": "zTBWSBFxuBiq"
      },
      "source": [
        "# SQA Interview Question 1\n",
        "\n",
        "* [Test Library](#test-library)\n",
        "* [Test Library API](#test-library-api)\n",
        "\n",
        "<a name=\"test-library\"></a>\n",
        "\n",
        "## Test Library\n",
        "\n",
        "This project is developed to be used as an interview question for Embedded Automation.<br/><br/>\n",
        "The library uses the requests library to grab specifc data and return it.<br/><br/>\n",
        "The purpose of the test is to do the following:\n",
        "\n",
        "* Import/create the class object from the TestLibrary.py\n",
        "* Use the class to do the following:\n",
        "    * Print weather data from the city Molex is in (ie. Waterloo)\n",
        "    * Perform test to be certain the Library returned the data successfully\n",
        "    * Perform test using unittest?\n",
        "\n",
        "### Return Object\n",
        "\n",
        "---\n",
        "\n",
        "The return object is the same for all Libraries. \n",
        "\n",
        "It is a dictionary object of the same structure:\n",
        "\n",
        "```json\n",
        "{\n",
        "    \"result\": 0,\n",
        "    \"description\": \"successful\",\n",
        "    \"data\": {}\n",
        "}\n",
        "```\n",
        "\n",
        "`description` is a string with a simple message about the status of the result.\n",
        "\n",
        "`result` is an integer: 0 is successful, -1 is failure, and 1 is try again.\n",
        "\n",
        "`data` is an embedded dictionary object that can have any data that is needed on return.\n",
        "\n",
        "\n",
        "### Log Files\n",
        "\n",
        "---\n",
        "\n",
        "| Filename | Description | \n",
        "| --- | --- |\n",
        "| test_library.log | Logging from TestController obj |\n",
        "\n",
        "### Example Usage\n",
        "\n",
        "---\n",
        "\n",
        "```python\n",
        "from TestLibrary import TestController\n",
        "\n",
        "testObj = TestController()\n",
        "```\n",
        "\n",
        "<a name=\"test-library-api\"></a>\n",
        "\n",
        "## Test Library API\n",
        "\n",
        "* [Constructor](#constructor)\n",
        "* [Get Weather](#get-weather)\n",
        "\n",
        "<a name=\"constructor\"></a>\n",
        "\n",
        "### Constructor\n",
        "\n",
        "```python\n",
        "def __init__(self, level=logging.DEBUG)\n",
        "```\n",
        "\n",
        "| Attribute | Type | Description | Required |\n",
        "| --- | --- | --- | --- |\n",
        "| `none` |  |  |  |\n",
        "\n",
        "Example usage:\n",
        "\n",
        "```python\n",
        "testObj = TestController()\n",
        "```\n",
        "\n",
        "<sub><sup>[back](#test-library-api)</sup></sub>\n",
        "\n",
        "<a name=\"get-weather\"></a>\n",
        "\n",
        "### Get Weather\n",
        "\n",
        "Gets the current temperature from the given city.\n",
        "\n",
        "```python\n",
        "def getWeather(self, city=\"\")\n",
        "```\n",
        "| Attribute | Type | Description | Required |\n",
        "| --- | --- | --- | --- |\n",
        "| `city` | string | Current city in Ontario, Canada. | `True` |\n",
        "\n",
        "Example usage:\n",
        "\n",
        "```python\n",
        "results = testObj.getWeather(\"Waterloo\")\n",
        "```\n",
        "\n",
        "Example response:\n",
        "\n",
        "```json\n",
        "{\n",
        "\t\"result\": 0, \n",
        "\t\"description\": \"getWeather successful\", \n",
        "\t\"data\": \n",
        "\t\t{\n",
        "\t\t\t\"temp\": 27.32000000000005\n",
        "\t\t}\n",
        "}\n",
        "```\n",
        "\n",
        "<sub><sup>[back](#test-library-api)</sup></sub>\n"
      ]
    },
    {
      "cell_type": "markdown",
      "metadata": {
        "id": "SbHDMolUvLmj"
      },
      "source": [
        "# Coding"
      ]
    },
    {
      "cell_type": "code",
      "metadata": {
        "id": "bsGdRHNQuCjt"
      },
      "source": [
        "pip install -r requirements.txt"
      ],
      "execution_count": null,
      "outputs": []
    },
    {
      "cell_type": "code",
      "metadata": {
        "id": "egHVUOP_uo2S"
      },
      "source": [
        "# code here"
      ],
      "execution_count": 6,
      "outputs": []
    }
  ]
}